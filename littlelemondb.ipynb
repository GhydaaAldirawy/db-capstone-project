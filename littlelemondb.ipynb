{
 "cells": [
  {
   "cell_type": "code",
   "execution_count": 4,
   "id": "8e8c4e15-08de-4c1e-87e0-7b935acbfcaa",
   "metadata": {},
   "outputs": [
    {
     "name": "stdout",
     "output_type": "stream",
     "text": [
      "تم الاتصال بقاعدة البيانات بنجاح!\n",
      "متصل بقاعدة البيانات: ('littlelemondm1',)\n",
      "تم إغلاق الاتصال بقاعدة البيانات.\n"
     ]
    }
   ],
   "source": [
    "import mysql.connector\n",
    "\n",
    "# إعداد بيانات الاتصال\n",
    "config = {\n",
    "    'user': 'lemon_user',\n",
    "    'password': '1357',\n",
    "    'host': 'localhost',           # أو عنوان السيرفر\n",
    "    'database': 'littlelemondm1',   # اسم قاعدة البيانات\n",
    "    'raise_on_warnings': True\n",
    "}\n",
    "\n",
    "try:\n",
    "    # إنشاء الاتصال\n",
    "    connection = mysql.connector.connect(**config)\n",
    "    print(\"تم الاتصال بقاعدة البيانات بنجاح!\")\n",
    "\n",
    "    # يمكنك تنفيذ استعلامات هنا\n",
    "    cursor = connection.cursor()\n",
    "    cursor.execute(\"SELECT DATABASE();\")\n",
    "    db = cursor.fetchone()\n",
    "    print(f\"متصل بقاعدة البيانات: {db}\")\n",
    "\n",
    "except mysql.connector.Error as err:\n",
    "    print(f\"حدث خطأ: {err}\")\n",
    "\n",
    "finally:\n",
    "    if connection.is_connected():\n",
    "        cursor.close()\n",
    "        connection.close()\n",
    "        print(\"تم إغلاق الاتصال بقاعدة البيانات.\")\n"
   ]
  },
  {
   "cell_type": "code",
   "execution_count": 5,
   "id": "63d32ac3-7c36-42d1-9812-29251ac56736",
   "metadata": {},
   "outputs": [
    {
     "name": "stdout",
     "output_type": "stream",
     "text": [
      "تم إنشاء الإجراء المخزن GetMaxQuantity بنجاح!\n",
      "Maximum ordered quantity is: 4\n"
     ]
    },
    {
     "name": "stderr",
     "output_type": "stream",
     "text": [
      "C:\\Users\\ROG\\AppData\\Local\\Temp\\ipykernel_21168\\4238046171.py:31: DeprecationWarning: Call to deprecated function stored_results. Reason: The property counterpart 'stored_results' will be added in a future release, and this method will be removed.\n",
      "  for result in cursor.stored_results():\n"
     ]
    }
   ],
   "source": [
    "import mysql.connector\n",
    "\n",
    "# إعدادات الاتصال بقاعدة البيانات\n",
    "config = {\n",
    "    'user': 'lemon_user',\n",
    "    'password': '1357',\n",
    "    'host': 'localhost',\n",
    "    'database': 'littlelemondm1'\n",
    "}\n",
    "\n",
    "try:\n",
    "    connection = mysql.connector.connect(**config)\n",
    "    cursor = connection.cursor()\n",
    "\n",
    "    # 1. إنشاء الإجراء المخزن (أولاً حذف إذا كان موجود لتجنب الخطأ)\n",
    "    cursor.execute(\"DROP PROCEDURE IF EXISTS GetMaxQuantity;\")\n",
    "\n",
    "    create_procedure_query = \"\"\"\n",
    "    CREATE PROCEDURE GetMaxQuantity()\n",
    "    BEGIN\n",
    "        SELECT MAX(Quantity) AS MaxQuantity FROM Orders;\n",
    "    END\n",
    "    \"\"\"\n",
    "    cursor.execute(create_procedure_query)\n",
    "    print(\"تم إنشاء الإجراء المخزن GetMaxQuantity بنجاح!\")\n",
    "\n",
    "    # 2. استدعاء الإجراء\n",
    "    cursor.callproc('GetMaxQuantity')\n",
    "\n",
    "    # 3. جلب وعرض النتائج\n",
    "    for result in cursor.stored_results():\n",
    "        data = result.fetchall()\n",
    "        for row in data:\n",
    "            print(f\"Maximum ordered quantity is: {row[0]}\")\n",
    "\n",
    "except mysql.connector.Error as err:\n",
    "    print(f\"حدث خطأ: {err}\")\n",
    "\n",
    "finally:\n",
    "    if connection.is_connected():\n",
    "        cursor.close()\n",
    "        connection.close()\n"
   ]
  },
  {
   "cell_type": "code",
   "execution_count": 12,
   "id": "62296027-938c-4c07-a1cb-e535ce81a9fc",
   "metadata": {},
   "outputs": [
    {
     "name": "stdout",
     "output_type": "stream",
     "text": [
      "CustomerID: 1, FullName: gh, OrderID: 1, TotalCost: 234, MenuName: rt\n",
      "CustomerID: 2, FullName: nd, OrderID: 2, TotalCost: 546, MenuName: ff\n",
      "CustomerID: 3, FullName: mn, OrderID: 3, TotalCost: 777, MenuName: fg\n"
     ]
    }
   ],
   "source": [
    "import mysql.connector\n",
    "from mysql.connector import pooling\n",
    "\n",
    "# إعداد الاتصال باستخدام connection pool\n",
    "dbconfig = {\n",
    "    \"user\": \"lemon_user\",\n",
    "    \"password\": \"1357\",\n",
    "    \"host\": \"localhost\",\n",
    "    \"database\": \"littlelemondm1\"\n",
    "}\n",
    "\n",
    "# إنشاء pool\n",
    "pool = pooling.MySQLConnectionPool(pool_name=\"mypool\",\n",
    "                                   pool_size=5,\n",
    "                                   **dbconfig)\n",
    "\n",
    "# استدعاء الاتصال من الـ pool\n",
    "connection = pool.get_connection()\n",
    "cursor = connection.cursor()\n",
    "\n",
    "# استعلام SQL من task 2\n",
    "query = \"\"\"\n",
    "SELECT \n",
    "    ` customers`.CustomerID,\n",
    "    ` customers`.FullName,\n",
    "    Orders.OrderID,\n",
    "    Orders.TotalCost,\n",
    "    Menu.Name AS MenuName\n",
    "FROM Orders\n",
    "JOIN ` customers` ON Orders.CustomerID = ` customers`.CustomerID\n",
    "JOIN Menu ON Orders.MenuID = Menu.MenuID\n",
    "WHERE Orders.TotalCost > 150\n",
    "ORDER BY Orders.TotalCost ASC;\n",
    "\"\"\"\n",
    "\n",
    "\n",
    "# تنفيذ الاستعلام\n",
    "cursor.execute(query)\n",
    "\n",
    "# جلب النتائج\n",
    "results = cursor.fetchall()\n",
    "\n",
    "# عرض النتائج\n",
    "for row in results:\n",
    "    print(f\"CustomerID: {row[0]}, FullName: {row[1]}, OrderID: {row[2]}, \"\n",
    "          f\"TotalCost: {row[3]}, MenuName: {row[4]}\")\n",
    "\n",
    "# إغلاق الاتصال\n",
    "cursor.close()\n",
    "connection.close()\n"
   ]
  },
  {
   "cell_type": "code",
   "execution_count": 9,
   "id": "4890cff2-e3cd-41a2-a608-f28ed79c9b28",
   "metadata": {},
   "outputs": [
    {
     "name": "stdout",
     "output_type": "stream",
     "text": [
      "(' customers',)\n",
      "('bookings',)\n",
      "('menu',)\n",
      "('orderdeliverystatus',)\n",
      "('orders',)\n",
      "('staff',)\n"
     ]
    }
   ],
   "source": [
    "cursor.execute(\"SHOW TABLES\")\n",
    "for table in cursor.fetchall():\n",
    "    print(table)\n"
   ]
  },
  {
   "cell_type": "code",
   "execution_count": 13,
   "id": "16fa759f-029d-4f24-842e-5e2aad833d8c",
   "metadata": {},
   "outputs": [
    {
     "name": "stdout",
     "output_type": "stream",
     "text": [
      "Order with OrderID = 10 has been cancelled successfully.\n"
     ]
    }
   ],
   "source": [
    "import mysql.connector\n",
    "from mysql.connector import pooling\n",
    "\n",
    "# إعداد الاتصال باستخدام connection pool\n",
    "dbconfig = {\n",
    "    \"user\": \"lemon_user\",\n",
    "    \"password\": \"1357\",\n",
    "    \"host\": \"localhost\",\n",
    "    \"database\": \"littlelemondm1\"\n",
    "}\n",
    "\n",
    "# إنشاء pool\n",
    "pool = pooling.MySQLConnectionPool(pool_name=\"mypool\",\n",
    "                                   pool_size=5,\n",
    "                                   **dbconfig)\n",
    "\n",
    "# استدعاء الاتصال من الـ pool\n",
    "connection = pool.get_connection()\n",
    "cursor = connection.cursor()\n",
    "\n",
    "try:\n",
    "    # رقم الطلب الذي تريد حذفه\n",
    "    order_id_to_cancel = 10  # غير هذا الرقم حسب الحاجة\n",
    "\n",
    "    # استدعاء الإجراء المخزن وتمرير المعامل\n",
    "    cursor.callproc('CancelOrder', [order_id_to_cancel])\n",
    "\n",
    "    # تنفيذ التغييرات\n",
    "    connection.commit()\n",
    "\n",
    "    print(f\"Order with OrderID = {order_id_to_cancel} has been cancelled successfully.\")\n",
    "\n",
    "except mysql.connector.Error as err:\n",
    "    print(f\"Error: {err}\")\n",
    "\n",
    "finally:\n",
    "    # إغلاق المؤشر والاتصال\n",
    "    cursor.close()\n",
    "    connection.close()\n"
   ]
  },
  {
   "cell_type": "code",
   "execution_count": 15,
   "id": "ecdace89-1e2d-4f6d-bf05-99261d7ecab0",
   "metadata": {},
   "outputs": [
    {
     "name": "stdout",
     "output_type": "stream",
     "text": [
      "📅 تحقق من الحجز: Table is already booked.\n",
      "📅 تحقق من الحجز: Table is available.\n",
      "📝 نتيجة الحجز: Booking failed. Table already booked.\n",
      "❌ خطأ في AddValidBooking: 1364 (HY000): Field 'BookingID' doesn't have a default value\n"
     ]
    },
    {
     "name": "stderr",
     "output_type": "stream",
     "text": [
      "C:\\Users\\ROG\\AppData\\Local\\Temp\\ipykernel_21168\\707146215.py:25: DeprecationWarning: Call to deprecated function stored_results. Reason: The property counterpart 'stored_results' will be added in a future release, and this method will be removed.\n",
      "  for result in cursor.stored_results():\n",
      "C:\\Users\\ROG\\AppData\\Local\\Temp\\ipykernel_21168\\707146215.py:38: DeprecationWarning: Call to deprecated function stored_results. Reason: The property counterpart 'stored_results' will be added in a future release, and this method will be removed.\n",
      "  for result in cursor.stored_results():\n"
     ]
    }
   ],
   "source": [
    "import mysql.connector\n",
    "from mysql.connector import pooling\n",
    "\n",
    "# إعداد الاتصال باستخدام connection pool\n",
    "dbconfig = {\n",
    "    \"user\": \"lemon_user\",\n",
    "    \"password\": \"1357\",\n",
    "    \"host\": \"localhost\",\n",
    "    \"database\": \"littlelemondm1\"\n",
    "}\n",
    "\n",
    "# إنشاء pool\n",
    "pool = pooling.MySQLConnectionPool(pool_name=\"mypool\",\n",
    "                                   pool_size=5,\n",
    "                                   **dbconfig)\n",
    "\n",
    "# الحصول على اتصال من الـ pool\n",
    "connection = pool.get_connection()\n",
    "cursor = connection.cursor()\n",
    "\n",
    "# ------------------ Task 2: استدعاء CheckBooking ------------------\n",
    "def check_booking(booking_date, table_number):\n",
    "    try:\n",
    "        cursor.callproc(\"CheckBooking\", (booking_date, table_number))\n",
    "        for result in cursor.stored_results():\n",
    "            print(f\"📅 تحقق من الحجز: {result.fetchone()[0]}\")\n",
    "    except mysql.connector.Error as err:\n",
    "        print(\"❌ خطأ في CheckBooking:\", err)\n",
    "\n",
    "# مثال على استخدام check_booking\n",
    "check_booking('2022-10-10', 5)\n",
    "check_booking('2022-10-15', 1)\n",
    "\n",
    "# ------------------ Task 3: استدعاء AddValidBooking ------------------\n",
    "def add_valid_booking(booking_date, table_number, customer_id):\n",
    "    try:\n",
    "        cursor.callproc(\"AddValidBooking\", (booking_date, table_number, customer_id))\n",
    "        for result in cursor.stored_results():\n",
    "            print(f\"📝 نتيجة الحجز: {result.fetchone()[0]}\")\n",
    "    except mysql.connector.Error as err:\n",
    "        print(\"❌ خطأ في AddValidBooking:\", err)\n",
    "\n",
    "# مثال على استخدام add_valid_booking\n",
    "add_valid_booking('2022-10-10', 5, 2)  # مفترض أن يفشل (الطاولة محجوزة)\n",
    "add_valid_booking('2022-10-15', 1, 3)  # مفترض أن ينجح (الطاولة متاحة)\n",
    "\n",
    "# إغلاق الاتصال\n",
    "cursor.close()\n",
    "connection.close()\n"
   ]
  },
  {
   "cell_type": "code",
   "execution_count": 19,
   "id": "ec954973-1476-4b98-b57b-32b10f7d92d7",
   "metadata": {},
   "outputs": [
    {
     "name": "stdout",
     "output_type": "stream",
     "text": [
      "C:\\Users\\ROG\n"
     ]
    }
   ],
   "source": [
    "import os\n",
    "print(os.getcwd())\n"
   ]
  },
  {
   "cell_type": "code",
   "execution_count": 20,
   "id": "0356096c-038e-4cf8-87bf-46b9102a715c",
   "metadata": {},
   "outputs": [
    {
     "data": {
      "text/plain": [
       "'C:\\\\Users\\\\ROG'"
      ]
     },
     "execution_count": 20,
     "metadata": {},
     "output_type": "execute_result"
    }
   ],
   "source": [
    "os.getcwd()"
   ]
  },
  {
   "cell_type": "code",
   "execution_count": null,
   "id": "b9bd2a20-e70d-4c29-a438-3a105b9d5f10",
   "metadata": {},
   "outputs": [],
   "source": []
  }
 ],
 "metadata": {
  "kernelspec": {
   "display_name": "Python 3 (ipykernel)",
   "language": "python",
   "name": "python3"
  },
  "language_info": {
   "codemirror_mode": {
    "name": "ipython",
    "version": 3
   },
   "file_extension": ".py",
   "mimetype": "text/x-python",
   "name": "python",
   "nbconvert_exporter": "python",
   "pygments_lexer": "ipython3",
   "version": "3.12.4"
  }
 },
 "nbformat": 4,
 "nbformat_minor": 5
}
